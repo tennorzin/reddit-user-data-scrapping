{
 "cells": [
  {
   "cell_type": "code",
   "execution_count": 1,
   "id": "88d28507-e549-46a5-aec9-a16fa873e92a",
   "metadata": {},
   "outputs": [
    {
     "name": "stdin",
     "output_type": "stream",
     "text": [
      "Enter Reddit profile URL (e.g. https://www.reddit.com/user/kojied/):  https://www.reddit.com/user/kojied/\n"
     ]
    },
    {
     "name": "stdout",
     "output_type": "stream",
     "text": [
      "Fetching posts for u/kojied...\n",
      "Fetching comments for u/kojied...\n",
      "Saved user content to: kojied_raw_content.txt\n"
     ]
    }
   ],
   "source": [
    "import praw\n",
    "import re\n",
    "\n",
    "#Reddit API credentials\n",
    "reddit = praw.Reddit(\n",
    "    client_id=\"fNHCt_o5d0nJyhReZdqJRA\",\n",
    "    client_secret=\"vnioVLK3YKwmrJUuMZ5OJAhBZ1OUeg\",\n",
    "    user_agent=\"user persona scraper by u/YourUsername\"\n",
    ")\n",
    "\n",
    "def ExtractUserName(url):\n",
    "    match = re.search(r\"reddit\\.com/user/([^/]+)/?\", url)\n",
    "    return match.group(1) if match else None\n",
    "\n",
    "def GetUserData(username, limit=50):\n",
    "    user = reddit.redditor(username)\n",
    "    posts = []\n",
    "    comments = []\n",
    "\n",
    "    print(f\"Fetching posts for u/{username}...\")\n",
    "    for post in user.submissions.new(limit=limit):\n",
    "        posts.append(f\"Post Title: {post.title}\\nPost Body: {post.selftext}\\n---\")\n",
    "\n",
    "    print(f\"Fetching comments for u/{username}...\")\n",
    "    for comment in user.comments.new(limit=limit):\n",
    "        comments.append(f\"Comment: {comment.body}\\n---\")\n",
    "\n",
    "    return posts + comments\n",
    "\n",
    "def SaveToFile(username, content_list):\n",
    "    filename = f\"{username}_raw_content.txt\"\n",
    "    with open(filename, \"w\", encoding=\"utf-8\") as f:\n",
    "        for entry in content_list:\n",
    "            f.write(entry + \"\\n\")\n",
    "    print(f\"Saved user content to: {filename}\")\n",
    "    return filename\n",
    "\n",
    "#MAIN SCRIPT\n",
    "if __name__ == \"__main__\":\n",
    "    reddit_url = input(\"Enter Reddit profile URL (e.g. https://www.reddit.com/user/kojied/): \").strip()\n",
    "    username = ExtractUserName(reddit_url)\n",
    "\n",
    "    if not username:\n",
    "        print(\"Invalid Reddit profile URL\")\n",
    "    else:\n",
    "        data = GetUserData(username)\n",
    "        if data:\n",
    "            file = SaveToFile(username, data)\n",
    "        else:\n",
    "            print(\"No data found\")\n"
   ]
  },
  {
   "cell_type": "code",
   "execution_count": 3,
   "id": "7990cce5-3811-45cd-9b98-5e73a2084e0f",
   "metadata": {},
   "outputs": [
    {
     "name": "stdin",
     "output_type": "stream",
     "text": [
      "Enter Reddit profile URL (e.g. https://www.reddit.com/user/kojied/):  https://www.reddit.com/user/Hungry-Move-6603/\n"
     ]
    },
    {
     "name": "stdout",
     "output_type": "stream",
     "text": [
      "Fetching posts for u/Hungry-Move-6603...\n",
      "Fetching comments for u/Hungry-Move-6603...\n",
      "Saved user content to: Hungry-Move-6603_raw_content.txt\n",
      "✅ Now copy content from that file and paste it into ChatGPT to generate a User Persona.\n"
     ]
    }
   ],
   "source": [
    "import praw\n",
    "import re\n",
    "\n",
    "# 🔧 Fill in your Reddit API credentials here:\n",
    "reddit = praw.Reddit(\n",
    "    client_id=\"fNHCt_o5d0nJyhReZdqJRA\",\n",
    "    client_secret=\"vnioVLK3YKwmrJUuMZ5OJAhBZ1OUeg\",\n",
    "    user_agent=\"user persona scraper by u/YourUsername\"\n",
    ")\n",
    "\n",
    "def extract_username(url):\n",
    "    match = re.search(r\"reddit\\.com/user/([^/]+)/?\", url)\n",
    "    return match.group(1) if match else None\n",
    "\n",
    "def get_user_data(username, limit=50):\n",
    "    user = reddit.redditor(username)\n",
    "    posts = []\n",
    "    comments = []\n",
    "\n",
    "    print(f\"Fetching posts for u/{username}...\")\n",
    "    for post in user.submissions.new(limit=limit):\n",
    "        posts.append(f\"Post Title: {post.title}\\nPost Body: {post.selftext}\\n---\")\n",
    "\n",
    "    print(f\"Fetching comments for u/{username}...\")\n",
    "    for comment in user.comments.new(limit=limit):\n",
    "        comments.append(f\"Comment: {comment.body}\\n---\")\n",
    "\n",
    "    return posts + comments\n",
    "\n",
    "def save_to_file(username, content_list):\n",
    "    filename = f\"{username}_raw_content.txt\"\n",
    "    with open(filename, \"w\", encoding=\"utf-8\") as f:\n",
    "        for entry in content_list:\n",
    "            f.write(entry + \"\\n\")\n",
    "    print(f\"Saved user content to: {filename}\")\n",
    "    return filename\n",
    "\n",
    "# === MAIN SCRIPT ===\n",
    "if __name__ == \"__main__\":\n",
    "    reddit_url = input(\"Enter Reddit profile URL (e.g. https://www.reddit.com/user/kojied/): \").strip()\n",
    "    username = extract_username(reddit_url)\n",
    "\n",
    "    if not username:\n",
    "        print(\"Invalid Reddit profile URL.\")\n",
    "    else:\n",
    "        data = get_user_data(username)\n",
    "        if data:\n",
    "            file = save_to_file(username, data)\n",
    "            print(\"✅ Now copy content from that file and paste it into ChatGPT to generate a User Persona.\")\n",
    "        else:\n",
    "            print(\"No data found.\")\n"
   ]
  },
  {
   "cell_type": "code",
   "execution_count": 2,
   "id": "001053f0-88b5-4f7b-8776-b9afa17457ff",
   "metadata": {},
   "outputs": [
    {
     "ename": "MissingRequiredAttributeException",
     "evalue": "Required configuration setting 'client_id' missing. \nThis setting can be provided in a praw.ini file, as a keyword argument to the Reddit class constructor, or as an environment variable.",
     "output_type": "error",
     "traceback": [
      "\u001b[31m---------------------------------------------------------------------------\u001b[39m",
      "\u001b[31mMissingRequiredAttributeException\u001b[39m         Traceback (most recent call last)",
      "\u001b[36mCell\u001b[39m\u001b[36m \u001b[39m\u001b[32mIn[2]\u001b[39m\u001b[32m, line 51\u001b[39m\n\u001b[32m     48\u001b[39m             save_to_file(username, data)\n\u001b[32m     50\u001b[39m \u001b[38;5;28;01mif\u001b[39;00m \u001b[34m__name__\u001b[39m == \u001b[33m\"\u001b[39m\u001b[33m__main__\u001b[39m\u001b[33m\"\u001b[39m:\n\u001b[32m---> \u001b[39m\u001b[32m51\u001b[39m     \u001b[43mmain\u001b[49m\u001b[43m(\u001b[49m\u001b[43m)\u001b[49m\n",
      "\u001b[36mCell\u001b[39m\u001b[36m \u001b[39m\u001b[32mIn[2]\u001b[39m\u001b[32m, line 34\u001b[39m, in \u001b[36mmain\u001b[39m\u001b[34m()\u001b[39m\n\u001b[32m     33\u001b[39m \u001b[38;5;28;01mdef\u001b[39;00m\u001b[38;5;250m \u001b[39m\u001b[34mmain\u001b[39m():\n\u001b[32m---> \u001b[39m\u001b[32m34\u001b[39m     reddit = \u001b[43mpraw\u001b[49m\u001b[43m.\u001b[49m\u001b[43mReddit\u001b[49m\u001b[43m(\u001b[49m\n\u001b[32m     35\u001b[39m \u001b[43m        \u001b[49m\u001b[43mclient_id\u001b[49m\u001b[43m=\u001b[49m\u001b[43mos\u001b[49m\u001b[43m.\u001b[49m\u001b[43mgetenv\u001b[49m\u001b[43m(\u001b[49m\u001b[33;43m\"\u001b[39;49m\u001b[33;43mREDDIT_CLIENT_ID\u001b[39;49m\u001b[33;43m\"\u001b[39;49m\u001b[43m)\u001b[49m\u001b[43m,\u001b[49m\n\u001b[32m     36\u001b[39m \u001b[43m        \u001b[49m\u001b[43mclient_secret\u001b[49m\u001b[43m=\u001b[49m\u001b[43mos\u001b[49m\u001b[43m.\u001b[49m\u001b[43mgetenv\u001b[49m\u001b[43m(\u001b[49m\u001b[33;43m\"\u001b[39;49m\u001b[33;43mREDDIT_CLIENT_SECRET\u001b[39;49m\u001b[33;43m\"\u001b[39;49m\u001b[43m)\u001b[49m\u001b[43m,\u001b[49m\n\u001b[32m     37\u001b[39m \u001b[43m        \u001b[49m\u001b[43muser_agent\u001b[49m\u001b[43m=\u001b[49m\u001b[43mos\u001b[49m\u001b[43m.\u001b[49m\u001b[43mgetenv\u001b[49m\u001b[43m(\u001b[49m\u001b[33;43m\"\u001b[39;49m\u001b[33;43mREDDIT_USER_AGENT\u001b[39;49m\u001b[33;43m\"\u001b[39;49m\u001b[43m)\u001b[49m\n\u001b[32m     38\u001b[39m \u001b[43m    \u001b[49m\u001b[43m)\u001b[49m\n\u001b[32m     40\u001b[39m     url = \u001b[38;5;28minput\u001b[39m(\u001b[33m\"\u001b[39m\u001b[33mEnter Reddit profile URL (e.g. https://www.reddit.com/user/kojied/): \u001b[39m\u001b[33m\"\u001b[39m)\n\u001b[32m     41\u001b[39m     username = extract_username(url)\n",
      "\u001b[36mFile \u001b[39m\u001b[32m~\\AppData\\Local\\Programs\\Python\\Python313\\Lib\\site-packages\\praw\\util\\deprecate_args.py:46\u001b[39m, in \u001b[36m_deprecate_args.<locals>.wrapper.<locals>.wrapped\u001b[39m\u001b[34m(*args, **kwargs)\u001b[39m\n\u001b[32m     39\u001b[39m     arg_string = _generate_arg_string(_old_args[: \u001b[38;5;28mlen\u001b[39m(args)])\n\u001b[32m     40\u001b[39m     warn(\n\u001b[32m     41\u001b[39m         \u001b[33mf\u001b[39m\u001b[33m\"\u001b[39m\u001b[33mPositional arguments for \u001b[39m\u001b[38;5;132;01m{\u001b[39;00mfunc.\u001b[34m__qualname__\u001b[39m\u001b[38;5;132;01m!r}\u001b[39;00m\u001b[33m will no longer be\u001b[39m\u001b[33m\"\u001b[39m\n\u001b[32m     42\u001b[39m         \u001b[33mf\u001b[39m\u001b[33m\"\u001b[39m\u001b[33m supported in PRAW 8.\u001b[39m\u001b[38;5;130;01m\\n\u001b[39;00m\u001b[33mCall this function with \u001b[39m\u001b[38;5;132;01m{\u001b[39;00marg_string\u001b[38;5;132;01m}\u001b[39;00m\u001b[33m.\u001b[39m\u001b[33m\"\u001b[39m,\n\u001b[32m     43\u001b[39m         \u001b[38;5;167;01mDeprecationWarning\u001b[39;00m,\n\u001b[32m     44\u001b[39m         stacklevel=\u001b[32m2\u001b[39m,\n\u001b[32m     45\u001b[39m     )\n\u001b[32m---> \u001b[39m\u001b[32m46\u001b[39m \u001b[38;5;28;01mreturn\u001b[39;00m \u001b[43mfunc\u001b[49m\u001b[43m(\u001b[49m\u001b[43m*\u001b[49m\u001b[43m*\u001b[49m\u001b[38;5;28;43mdict\u001b[39;49m\u001b[43m(\u001b[49m\u001b[38;5;28;43mzip\u001b[39;49m\u001b[43m(\u001b[49m\u001b[43m_old_args\u001b[49m\u001b[43m,\u001b[49m\u001b[43m \u001b[49m\u001b[43margs\u001b[49m\u001b[43m)\u001b[49m\u001b[43m)\u001b[49m\u001b[43m,\u001b[49m\u001b[43m \u001b[49m\u001b[43m*\u001b[49m\u001b[43m*\u001b[49m\u001b[43mkwargs\u001b[49m\u001b[43m)\u001b[49m\n",
      "\u001b[36mFile \u001b[39m\u001b[32m~\\AppData\\Local\\Programs\\Python\\Python313\\Lib\\site-packages\\praw\\reddit.py:259\u001b[39m, in \u001b[36mReddit.__init__\u001b[39m\u001b[34m(self, site_name, config_interpolation, requestor_class, requestor_kwargs, token_manager, **config_settings)\u001b[39m\n\u001b[32m    257\u001b[39m \u001b[38;5;28;01mfor\u001b[39;00m attribute \u001b[38;5;129;01min\u001b[39;00m (\u001b[33m\"\u001b[39m\u001b[33mclient_id\u001b[39m\u001b[33m\"\u001b[39m, \u001b[33m\"\u001b[39m\u001b[33muser_agent\u001b[39m\u001b[33m\"\u001b[39m):\n\u001b[32m    258\u001b[39m     \u001b[38;5;28;01mif\u001b[39;00m \u001b[38;5;28mgetattr\u001b[39m(\u001b[38;5;28mself\u001b[39m.config, attribute) \u001b[38;5;129;01min\u001b[39;00m (\u001b[38;5;28mself\u001b[39m.config.CONFIG_NOT_SET, \u001b[38;5;28;01mNone\u001b[39;00m):\n\u001b[32m--> \u001b[39m\u001b[32m259\u001b[39m         \u001b[38;5;28;01mraise\u001b[39;00m MissingRequiredAttributeException(\n\u001b[32m    260\u001b[39m             required_message.format(attribute)\n\u001b[32m    261\u001b[39m         )\n\u001b[32m    262\u001b[39m \u001b[38;5;28;01mif\u001b[39;00m \u001b[38;5;28mself\u001b[39m.config.client_secret \u001b[38;5;129;01mis\u001b[39;00m \u001b[38;5;28mself\u001b[39m.config.CONFIG_NOT_SET:\n\u001b[32m    263\u001b[39m     msg = \u001b[33mf\u001b[39m\u001b[33m\"\u001b[39m\u001b[38;5;132;01m{\u001b[39;00mrequired_message.format(\u001b[33m'\u001b[39m\u001b[33mclient_secret\u001b[39m\u001b[33m'\u001b[39m)\u001b[38;5;132;01m}\u001b[39;00m\u001b[38;5;130;01m\\n\u001b[39;00m\u001b[33mFor installed applications this value must be set to None via a keyword argument to the Reddit class constructor.\u001b[39m\u001b[33m\"\u001b[39m\n",
      "\u001b[31mMissingRequiredAttributeException\u001b[39m: Required configuration setting 'client_id' missing. \nThis setting can be provided in a praw.ini file, as a keyword argument to the Reddit class constructor, or as an environment variable."
     ]
    }
   ],
   "source": [
    "import praw\n",
    "import re\n",
    "from dotenv import load_dotenv\n",
    "import os\n",
    "\n",
    "load_dotenv()  # Load from .env\n",
    "\n",
    "def extract_username(url):\n",
    "    match = re.search(r\"reddit\\.com/user/([^/]+)/?\", url)\n",
    "    return match.group(1) if match else None\n",
    "\n",
    "def get_user_data(reddit, username, limit=50):\n",
    "    user = reddit.redditor(username)\n",
    "    posts, comments = [], []\n",
    "\n",
    "    print(f\"Fetching posts for u/{username}...\")\n",
    "    for post in user.submissions.new(limit=limit):\n",
    "        posts.append(f\"Post Title: {post.title}\\nPost Body: {post.selftext}\\n---\")\n",
    "\n",
    "    print(f\"Fetching comments for u/{username}...\")\n",
    "    for comment in user.comments.new(limit=limit):\n",
    "        comments.append(f\"Comment: {comment.body}\\n---\")\n",
    "\n",
    "    return posts + comments\n",
    "\n",
    "def save_to_file(username, content_list):\n",
    "    filename = f\"{username}_raw_content.txt\"\n",
    "    with open(filename, \"w\", encoding=\"utf-8\") as f:\n",
    "        for entry in content_list:\n",
    "            f.write(entry + \"\\n\")\n",
    "    print(f\"✅ Saved to: {filename}\")\n",
    "\n",
    "def main():\n",
    "    reddit = praw.Reddit(\n",
    "        client_id=os.getenv(\"REDDIT_CLIENT_ID\"),\n",
    "        client_secret=os.getenv(\"REDDIT_CLIENT_SECRET\"),\n",
    "        user_agent=os.getenv(\"REDDIT_USER_AGENT\")\n",
    "    )\n",
    "\n",
    "    url = input(\"Enter Reddit profile URL (e.g. https://www.reddit.com/user/kojied/): \")\n",
    "    username = extract_username(url)\n",
    "\n",
    "    if not username:\n",
    "        print(\"Invalid URL.\")\n",
    "    else:\n",
    "        data = get_user_data(reddit, username)\n",
    "        if data:\n",
    "            save_to_file(username, data)\n",
    "\n",
    "if __name__ == \"__main__\":\n",
    "    main()\n"
   ]
  },
  {
   "cell_type": "code",
   "execution_count": null,
   "id": "7e80ae57-67c3-48be-97fe-ada8a9afdf1e",
   "metadata": {},
   "outputs": [],
   "source": []
  }
 ],
 "metadata": {
  "kernelspec": {
   "display_name": "Python 3 (ipykernel)",
   "language": "python",
   "name": "python3"
  },
  "language_info": {
   "codemirror_mode": {
    "name": "ipython",
    "version": 3
   },
   "file_extension": ".py",
   "mimetype": "text/x-python",
   "name": "python",
   "nbconvert_exporter": "python",
   "pygments_lexer": "ipython3",
   "version": "3.13.5"
  }
 },
 "nbformat": 4,
 "nbformat_minor": 5
}
